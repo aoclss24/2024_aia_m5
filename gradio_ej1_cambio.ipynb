{
 "cells": [
  {
   "cell_type": "markdown",
   "metadata": {},
   "source": [
    "Uso de Gradio para crear la interfaz del histograma."
   ]
  },
  {
   "cell_type": "code",
   "execution_count": null,
   "metadata": {},
   "outputs": [],
   "source": [
    "# Importación de librerías\n",
    "import pandas as pd\n",
    "import numpy as np\n",
    "import glob\n",
    "import gradio as gr\n",
    "import seaborn as sns\n",
    "import matplotlib.pyplot as plt\n",
    "\n",
    "# Lectura de archivos CSV\n",
    "path = \"samples/\"\n",
    "all_files = glob.glob(path + \"/*.csv\")\n",
    "df_list = []\n",
    "for filename in all_files:\n",
    "    df = pd.read_csv(filename, index_col=None, header=0)\n",
    "    df_list.append(df)\n",
    "\n",
    "# Unión de todos los archivos en un solo dataframe y reemplazo de valores faltantes con \"UNK\".\n",
    "df_concat = pd.concat(df_list, axis=0, ignore_index=True)\n",
    "df_concat[\"Tipo de alerta\"] = df_concat[\"Tipo de alerta\"].fillna(\"UNK\")\n",
    "\n",
    "\n",
    "# Función para calcular estadísticas y visualizar el histograma\n",
    "def ver_histograma_stats(codigo, tipo_metrica, tipo_alerta):\n",
    "    # Filtración de los valores específicos\n",
    "    filtered_df = df_concat[\n",
    "        (df_concat[\"Codigo\"] == codigo)\n",
    "        & (df_concat[\"Clasificacion de metrica\"] == tipo_metrica)\n",
    "        & (df_concat[\"Tipo de alerta\"] == tipo_alerta)\n",
    "    ]\n",
    "\n",
    "    # Cálculo de estadísticas básicas\n",
    "    stats = {\n",
    "        \"Media\": filtered_df[\"Valor\"].mean(),\n",
    "        \"Mediana\": filtered_df[\"Valor\"].median(),\n",
    "        \"Desviación estándar\": filtered_df[\"Valor\"].std(),\n",
    "        \"Mínimo\": filtered_df[\"Valor\"].min(),\n",
    "        \"Máximo\": filtered_df[\"Valor\"].max(),\n",
    "        \"Cantidad de datos\": len(filtered_df),\n",
    "    }\n",
    "\n",
    "    # Colocando las stats calculadas de forma legible para la interfaz gráfica\n",
    "    stats_text = \"\\n\".join([f\"{key}: {value:.2f}\" for key, value in stats.items()])\n",
    "\n",
    "    # Creando la nueva figura con dimensiones específicas\n",
    "    plt.figure(figsize=(10, 6))\n",
    "\n",
    "    # Creación del histograma con Seaborn\n",
    "    sns.histplot(filtered_df[\"Valor\"], kde=True, bins=30, color=\"skyblue\")\n",
    "\n",
    "    # Personalizando la figura creada plt\n",
    "    plt.title(f\"Histograma para {codigo}, {tipo_metrica}, {tipo_alerta}\")\n",
    "    plt.xlabel(\"Valor\")\n",
    "    plt.ylabel(\"Frecuencia\")\n",
    "    plt.grid(True)\n",
    "\n",
    "    return plt, stats_text\n",
    "\n",
    "\n",
    "# Creación de las entradas como dropdowns\n",
    "codigo_dropdown = gr.Dropdown(list(df_concat[\"Codigo\"].unique()), label=\"Código\")\n",
    "clasificacion_metrica_dropdown = gr.Dropdown(\n",
    "    list(df_concat[\"Clasificacion de metrica\"].unique()),\n",
    "    label=\"Clasificacion de métrica\",\n",
    ")\n",
    "tipo_alerta_dropdown = gr.Dropdown(\n",
    "    list(df_concat[\"Tipo de alerta\"].unique()), label=\"Tipo de alerta\"\n",
    ")\n",
    "\n",
    "# Creación de la interfaz con Gradio\n",
    "demo = gr.Interface(\n",
    "    fn=ver_histograma_stats,\n",
    "    inputs=[codigo_dropdown, clasificacion_metrica_dropdown, tipo_alerta_dropdown],\n",
    "    outputs=[\"plot\", \"text\"],\n",
    "    title=\"Visualizar histograma y estadísticas\",\n",
    "    description=\"Seleccione un código, una clasificación de métrica, y un tipo de alerta para visualizar un histograma de los valores y ver estadísticas clave.\",\n",
    ")\n",
    "\n",
    "# Desplegando la interfaz\n",
    "demo.launch()"
   ]
  },
  {
   "cell_type": "code",
   "execution_count": 6,
   "metadata": {},
   "outputs": [
    {
     "name": "stdout",
     "output_type": "stream",
     "text": [
      "Closing server running on port: 7861\n"
     ]
    }
   ],
   "source": [
    "# Deteniendo la demostración\n",
    "demo.close()"
   ]
  }
 ],
 "metadata": {
  "kernelspec": {
   "display_name": "venv",
   "language": "python",
   "name": "python3"
  },
  "language_info": {
   "codemirror_mode": {
    "name": "ipython",
    "version": 3
   },
   "file_extension": ".py",
   "mimetype": "text/x-python",
   "name": "python",
   "nbconvert_exporter": "python",
   "pygments_lexer": "ipython3",
   "version": "3.12.3"
  }
 },
 "nbformat": 4,
 "nbformat_minor": 2
}
