{
 "cells": [
  {
   "cell_type": "markdown",
   "metadata": {},
   "source": [
    "Uso de Gradio para generar la interfaz de prueba de un modelo de clasificación."
   ]
  },
  {
   "cell_type": "code",
   "execution_count": null,
   "metadata": {},
   "outputs": [],
   "source": [
    "import pandas as pd\n",
    "from sklearn.model_selection import train_test_split\n",
    "from sklearn.linear_model import LogisticRegression\n",
    "import gradio as gr\n",
    "\n",
    "# Lectura de datos de diabetes\n",
    "url = \"https://raw.githubusercontent.com/jbrownlee/Datasets/master/pima-indians-diabetes.data.csv\"\n",
    "columnas = [\n",
    "    \"Embarazos\",\n",
    "    \"Glucosa\",\n",
    "    \"Presion_sanguinea\",\n",
    "    \"Pliegue_cutaneo\",\n",
    "    \"Insulina\",\n",
    "    \"IMC\",\n",
    "    \"DPF\",\n",
    "    \"Edad\",\n",
    "    \"Resultado\",\n",
    "]\n",
    "datos = pd.read_csv(url, names=columnas)\n",
    "\n",
    "# Separación de las características y la variable objetivo\n",
    "X = datos.drop(\"Resultado\", axis=1)\n",
    "y = datos[\"Resultado\"]\n",
    "\n",
    "# División de los datos en conjuntos de entrenamiento y prueba\n",
    "X_train, X_test, y_train, y_test = train_test_split(\n",
    "    X, y, test_size=0.2, random_state=42\n",
    ")\n",
    "\n",
    "# Entrenando el modelo de regresión logística\n",
    "modelo = LogisticRegression(max_iter=200)\n",
    "modelo.fit(X_train, y_train)\n",
    "\n",
    "\n",
    "# Función para hacer predicciones\n",
    "def predecir_diabetes(embarazos, glucosa, presion, pliegue, insulina, imc, dpf, edad):\n",
    "    entrada = pd.DataFrame(\n",
    "        [[embarazos, glucosa, presion, pliegue, insulina, imc, dpf, edad]],\n",
    "        columns=[\n",
    "            \"Embarazos\",\n",
    "            \"Glucosa\",\n",
    "            \"Presion_sanguinea\",\n",
    "            \"Pliegue_cutaneo\",\n",
    "            \"Insulina\",\n",
    "            \"IMC\",\n",
    "            \"DPF\",\n",
    "            \"Edad\",\n",
    "        ],\n",
    "    )\n",
    "    prediccion = modelo.predict(entrada)\n",
    "    probabilidad = modelo.predict_proba(entrada)[0][1]\n",
    "    resultado = \"Positivo\" if prediccion[0] else \"Negativo\"\n",
    "    return resultado, probabilidad\n",
    "\n",
    "\n",
    "# Creación de la interfaz con Gradio\n",
    "inputs = [\n",
    "    gr.Number(label=\"Embarazos [0-5]\", info=\"Número de embarazos [0-5]\"),\n",
    "    gr.Number(label=\"Glucosa [0-199]\", minimum=0, maximum=199),\n",
    "    gr.Number(label=\"Presión sanguínea\"),\n",
    "    gr.Number(label=\"Pliegue cutáneo [0-99]\"),\n",
    "    gr.Number(label=\"Insulina [0-846]\"),\n",
    "    gr.Number(label=\"IMC [0-67.1]\"),\n",
    "    gr.Number(label=\"DPF [0.078 - 2.42]\"),\n",
    "    gr.Number(label=\"Edad [1-81]\"),\n",
    "]\n",
    "outputs = [\n",
    "    gr.Label(label=\"Resultado de predicción\"),\n",
    "    gr.Number(label=\"Probabilidad (%)\"),\n",
    "]\n",
    "\n",
    "iface = gr.Interface(fn=predecir_diabetes, inputs=inputs, outputs=outputs)\n",
    "\n",
    "# Desplegando la interfaz\n",
    "iface.launch()"
   ]
  },
  {
   "cell_type": "code",
   "execution_count": null,
   "metadata": {},
   "outputs": [],
   "source": [
    "# Deteniendo la demostración\n",
    "iface.close()"
   ]
  }
 ],
 "metadata": {
  "kernelspec": {
   "display_name": "venv",
   "language": "python",
   "name": "python3"
  },
  "language_info": {
   "codemirror_mode": {
    "name": "ipython",
    "version": 3
   },
   "file_extension": ".py",
   "mimetype": "text/x-python",
   "name": "python",
   "nbconvert_exporter": "python",
   "pygments_lexer": "ipython3",
   "version": "3.12.3"
  }
 },
 "nbformat": 4,
 "nbformat_minor": 2
}
